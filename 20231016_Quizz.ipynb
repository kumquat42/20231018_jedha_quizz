{
 "cells": [
  {
   "cell_type": "markdown",
   "metadata": {},
   "source": [
    "# Préparer les functions:"
   ]
  },
  {
   "cell_type": "code",
   "execution_count": 1,
   "metadata": {},
   "outputs": [],
   "source": [
    "\n",
    "\n",
    "def quizz_team_racing(number):\n",
    "\n",
    "\n",
    "    #Questions:\n",
    "    question = ''\n",
    "\n",
    "    if number == 1:\n",
    "        question1 = input('Qui a gagné le championnat de F1 en 2023 ? (Mickey Mouse, Max Verstappen, Ayrton Senat ou Elon Musk)')\n",
    "        r_question = question1\n",
    "    elif number == 2:\n",
    "        \n",
    "        question2 = input('Pour quelle écurie il a courru ? (Mercedes, Traban, Red Bull, Skoda)')\n",
    "        r_question = question2\n",
    "    elif number == 3:\n",
    "        \n",
    "        question3 = input('Quel était le français le mieux placé dans le même championnat ? (Sebastien Loeb, Jean-Pierre Castaldi, Pierre Gasly, Gregory Labeau)')\n",
    "        r_question = question3\n",
    "    else :\n",
    "        \n",
    "        question4 = input('Quelle était sa place dans le championnat ? (2nd, 7ème, 11ème, \\'il était trop nul, donc ils ne l\\ont pa pris en compte\\')')\n",
    "        r_question = question4\n",
    "\n",
    "\n",
    "\n",
    "    #bonnes réponses du quizz\n",
    "    reponse1 = 'Max Verstappen'\n",
    "    reponse2 = 'Red Bull'\n",
    "    reponse3 = 'Pierre Gasly'\n",
    "    reponse4 = '11ème'\n",
    "\n",
    "    if number == 1:\n",
    "        reponse = reponse1\n",
    "    elif number == 2:\n",
    "        reponse = reponse2\n",
    "    elif number == 3:\n",
    "        reponse = reponse3\n",
    "    else :\n",
    "        reponse = reponse4\n",
    "\n",
    "    # Comparaisons bonnes réponse (reponse)_réponse données (r_question)\n",
    "\n",
    "    if r_question == reponse:\n",
    "        print('Felicitations')\n",
    "    else:\n",
    "        print('Dommage')\n",
    "        nouvel_essai = input('Voulez-vous réessayer ?')\n",
    "        \n",
    "        \n",
    "        #if nouvel_essai == 'oui':\n",
    "        #    quizz_team_question(number) #-> pb.\n",
    "           \n",
    "\n"
   ]
  },
  {
   "cell_type": "code",
   "execution_count": 2,
   "metadata": {},
   "outputs": [
    {
     "name": "stdout",
     "output_type": "stream",
     "text": [
      "Dommage\n",
      "Felicitations\n",
      "Dommage\n"
     ]
    },
    {
     "ename": "NameError",
     "evalue": "name 'quizz_team_question' is not defined",
     "output_type": "error",
     "traceback": [
      "\u001b[0;31m---------------------------------------------------------------------------\u001b[0m",
      "\u001b[0;31mNameError\u001b[0m                                 Traceback (most recent call last)",
      "\u001b[1;32m/home/mel/Documents/Python/Science_Eng/20231016_Quizz.ipynb Cell 3\u001b[0m line \u001b[0;36m2\n\u001b[1;32m      <a href='vscode-notebook-cell:/home/mel/Documents/Python/Science_Eng/20231016_Quizz.ipynb#W1sZmlsZQ%3D%3D?line=0'>1</a>\u001b[0m \u001b[39mfor\u001b[39;00m i \u001b[39min\u001b[39;00m \u001b[39mrange\u001b[39m(\u001b[39m1\u001b[39m, \u001b[39m4\u001b[39m, \u001b[39m1\u001b[39m):\n\u001b[0;32m----> <a href='vscode-notebook-cell:/home/mel/Documents/Python/Science_Eng/20231016_Quizz.ipynb#W1sZmlsZQ%3D%3D?line=1'>2</a>\u001b[0m     quizz_team_racing(i)\n",
      "\u001b[1;32m/home/mel/Documents/Python/Science_Eng/20231016_Quizz.ipynb Cell 3\u001b[0m line \u001b[0;36m4\n\u001b[1;32m     <a href='vscode-notebook-cell:/home/mel/Documents/Python/Science_Eng/20231016_Quizz.ipynb#W1sZmlsZQ%3D%3D?line=45'>46</a>\u001b[0m nouvel_essai \u001b[39m=\u001b[39m \u001b[39minput\u001b[39m(\u001b[39m'\u001b[39m\u001b[39mVoulez-vous réessayer ?\u001b[39m\u001b[39m'\u001b[39m)\n\u001b[1;32m     <a href='vscode-notebook-cell:/home/mel/Documents/Python/Science_Eng/20231016_Quizz.ipynb#W1sZmlsZQ%3D%3D?line=46'>47</a>\u001b[0m \u001b[39mif\u001b[39;00m nouvel_essai \u001b[39m==\u001b[39m \u001b[39m'\u001b[39m\u001b[39moui\u001b[39m\u001b[39m'\u001b[39m:\n\u001b[0;32m---> <a href='vscode-notebook-cell:/home/mel/Documents/Python/Science_Eng/20231016_Quizz.ipynb#W1sZmlsZQ%3D%3D?line=47'>48</a>\u001b[0m     quizz_team_question(number)\n",
      "\u001b[0;31mNameError\u001b[0m: name 'quizz_team_question' is not defined"
     ]
    }
   ],
   "source": [
    "for i in range(1, 4, 1):\n",
    "    quizz_team_racing(i)"
   ]
  }
 ],
 "metadata": {
  "kernelspec": {
   "display_name": "base",
   "language": "python",
   "name": "python3"
  },
  "language_info": {
   "codemirror_mode": {
    "name": "ipython",
    "version": 3
   },
   "file_extension": ".py",
   "mimetype": "text/x-python",
   "name": "python",
   "nbconvert_exporter": "python",
   "pygments_lexer": "ipython3",
   "version": "3.11.4"
  },
  "orig_nbformat": 4
 },
 "nbformat": 4,
 "nbformat_minor": 2
}
